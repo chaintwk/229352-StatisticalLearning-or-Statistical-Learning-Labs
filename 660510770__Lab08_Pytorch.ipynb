{
  "cells": [
    {
      "cell_type": "markdown",
      "metadata": {
        "id": "view-in-github",
        "colab_type": "text"
      },
      "source": [
        "<a href=\"https://colab.research.google.com/github/chaintwk/229352-StatisticalLearning-or-Statistical-Learning-Labs/blob/main/660510770__Lab08_Pytorch.ipynb\" target=\"_parent\"><img src=\"https://colab.research.google.com/assets/colab-badge.svg\" alt=\"Open In Colab\"/></a>"
      ]
    },
    {
      "cell_type": "markdown",
      "metadata": {
        "id": "M3QKBSBrMRFs"
      },
      "source": [
        "### Statistical Learning for Data Science 2 (229352)\n",
        "#### Instructor: Donlapark Ponnoprat\n",
        "\n",
        "#### [Course website](https://donlapark.pages.dev/229352/)\n",
        "\n",
        "## Lab #8"
      ]
    },
    {
      "cell_type": "markdown",
      "metadata": {
        "id": "G-nQb7jGS3PJ"
      },
      "source": [
        "There are several deep learning frameworks in Python.\n",
        "\n",
        "<img src=\"https://upload.wikimedia.org/wikipedia/commons/thumb/c/c6/PyTorch_logo_black.svg/2560px-PyTorch_logo_black.svg.png\" width=\"100\"/>&nbsp;&nbsp;&nbsp;&nbsp;&nbsp;&nbsp;&nbsp;<img src=\"https://upload.wikimedia.org/wikipedia/commons/2/2d/Tensorflow_logo.svg\" width=\"40\"/><img src=\"https://assets-global.website-files.com/621e749a546b7592125f38ed/62277da165ed192adba475fc_JAX.jpg\" width=\"100\"/>\n",
        "\n",
        "In this Lab, we will use PyTorch"
      ]
    },
    {
      "cell_type": "code",
      "execution_count": 1,
      "metadata": {
        "id": "MzJSrt8CSv4p"
      },
      "outputs": [],
      "source": [
        "import numpy as np\n",
        "\n",
        "import torch #ย้ายปอยู่ใน GPU ได้"
      ]
    },
    {
      "cell_type": "markdown",
      "metadata": {
        "id": "QEsXce8XuwIW"
      },
      "source": [
        "# Tensor basics"
      ]
    },
    {
      "cell_type": "markdown",
      "metadata": {
        "id": "qr1d7mpfrQ-W"
      },
      "source": [
        "## Basic tensor creation"
      ]
    },
    {
      "cell_type": "markdown",
      "metadata": {
        "id": "zoo78UqZZBmo"
      },
      "source": [
        "### Creating a scalar (1D) tensor"
      ]
    },
    {
      "cell_type": "code",
      "execution_count": 2,
      "metadata": {
        "colab": {
          "base_uri": "https://localhost:8080/"
        },
        "id": "8QkirMVZUpfe",
        "outputId": "1d4f96d5-f246-453b-92b0-4751d7e921d4"
      },
      "outputs": [
        {
          "output_type": "stream",
          "name": "stdout",
          "text": [
            "tensor(8)\n",
            "tensor(9)\n",
            "tensor(17)\n"
          ]
        }
      ],
      "source": [
        "a = torch.tensor(8)\n",
        "b = torch.tensor(9) #+ - * / ได้หมด,เมื่อย้ายไปอยู่ใน gpu แล้วต้องใช้พลังงานในการระมวลผลเยอะควรใช้ตัวนี้ Pytorch\n",
        "a+b\n",
        "print(a)\n",
        "print(b)\n",
        "print(a+b)"
      ]
    },
    {
      "cell_type": "markdown",
      "metadata": {
        "id": "Y2D_T5PPZI4L"
      },
      "source": [
        "### Convert a tensor to scalar"
      ]
    },
    {
      "cell_type": "code",
      "execution_count": 3,
      "metadata": {
        "colab": {
          "base_uri": "https://localhost:8080/"
        },
        "id": "BSkS98iYXVZI",
        "outputId": "03d30278-1dcd-4edc-dddc-7a8d855947ed"
      },
      "outputs": [
        {
          "output_type": "execute_result",
          "data": {
            "text/plain": [
              "8"
            ]
          },
          "metadata": {},
          "execution_count": 3
        }
      ],
      "source": [
        "a.item()"
      ]
    },
    {
      "cell_type": "markdown",
      "metadata": {
        "id": "wLUTVuu8ZPCV"
      },
      "source": [
        "### Creating 2D tensor"
      ]
    },
    {
      "cell_type": "code",
      "execution_count": 4,
      "metadata": {
        "colab": {
          "base_uri": "https://localhost:8080/"
        },
        "id": "ST-ZldGXX9SY",
        "outputId": "212b4150-6521-486a-bbb1-a762f55e807a"
      },
      "outputs": [
        {
          "output_type": "stream",
          "name": "stdout",
          "text": [
            "tensor([[1, 2, 3],\n",
            "        [4, 5, 6]])\n"
          ]
        }
      ],
      "source": [
        "A = torch.tensor([[1, 2, 3], [4, 5, 6]])\n",
        "print(A)"
      ]
    },
    {
      "cell_type": "markdown",
      "metadata": {
        "id": "RL1rmhg8rVgY"
      },
      "source": [
        "## Tensor and Numpy"
      ]
    },
    {
      "cell_type": "markdown",
      "metadata": {
        "id": "1LSTMBVNZjAu"
      },
      "source": [
        "### Convert from tensor to numpy array"
      ]
    },
    {
      "cell_type": "code",
      "execution_count": 5,
      "metadata": {
        "colab": {
          "base_uri": "https://localhost:8080/"
        },
        "id": "I4LkkrQdYbLq",
        "outputId": "73c46f46-4665-4ead-e73d-b8210b82f8dd"
      },
      "outputs": [
        {
          "output_type": "execute_result",
          "data": {
            "text/plain": [
              "array([[1, 2, 3],\n",
              "       [4, 5, 6]])"
            ]
          },
          "metadata": {},
          "execution_count": 5
        }
      ],
      "source": [
        "A.numpy() #แปลง Tensor กลับเป็น numpy ได้"
      ]
    },
    {
      "cell_type": "markdown",
      "metadata": {
        "id": "xcFexnBYZn73"
      },
      "source": [
        "### Convert from numpy array to tensor"
      ]
    },
    {
      "cell_type": "code",
      "execution_count": 6,
      "metadata": {
        "colab": {
          "base_uri": "https://localhost:8080/"
        },
        "id": "lDRLWyGkZmjM",
        "outputId": "1924d9dc-94d0-48c1-cda4-16622f3b1812"
      },
      "outputs": [
        {
          "output_type": "stream",
          "name": "stdout",
          "text": [
            "tensor([[1, 2],\n",
            "        [3, 4]])\n"
          ]
        }
      ],
      "source": [
        "B = np.array([[1, 2], [3, 4]])\n",
        "\n",
        "C = torch.from_numpy(B) #สร้างตัวแปรเปลี่ยนเป็น tensor ก่อนถึงจะค่อยโยนเข้า GPU ได้\n",
        "print(C)"
      ]
    },
    {
      "cell_type": "markdown",
      "metadata": {
        "id": "5bLYQUdDb47c"
      },
      "source": [
        "## Basic operations"
      ]
    },
    {
      "cell_type": "code",
      "execution_count": 7,
      "metadata": {
        "colab": {
          "base_uri": "https://localhost:8080/"
        },
        "id": "O1ZL-UgraQZG",
        "outputId": "d5b48048-877e-4589-c678-51ed062b6176"
      },
      "outputs": [
        {
          "output_type": "stream",
          "name": "stdout",
          "text": [
            "tensor([[2, 4],\n",
            "        [6, 8]])\n",
            "tensor([[-9, -8],\n",
            "        [-7, -6]])\n"
          ]
        }
      ],
      "source": [
        "D = 2*C\n",
        "\n",
        "E = C - 10\n",
        "\n",
        "print(D)\n",
        "print(E)"
      ]
    },
    {
      "cell_type": "markdown",
      "metadata": {
        "id": "K_k3thRzrdpd"
      },
      "source": [
        "### Matrix multiplication"
      ]
    },
    {
      "cell_type": "code",
      "execution_count": 8,
      "metadata": {
        "colab": {
          "base_uri": "https://localhost:8080/"
        },
        "id": "d1XwpoNaakY2",
        "outputId": "c535e3ce-c0bb-4b67-b97e-a661f41505a0"
      },
      "outputs": [
        {
          "output_type": "stream",
          "name": "stdout",
          "text": [
            "tensor([[ -46,  -40],\n",
            "        [-110,  -96]])\n",
            "tensor([[ -46,  -40],\n",
            "        [-110,  -96]])\n",
            "tensor([[ -46,  -40],\n",
            "        [-110,  -96]])\n"
          ]
        }
      ],
      "source": [
        "torch.matmul(D, E)\n",
        "#torch.mm(D,E)\n",
        "#D @ E ใช้ได้ 3 แบบในการคูณระหว่างเมทริกซ์ 2 ตัว\n",
        "print(torch.matmul(D, E))\n",
        "print(torch.mm(D, E))\n",
        "print(D @ E)"
      ]
    },
    {
      "cell_type": "markdown",
      "metadata": {
        "id": "TwJki4afrf0m"
      },
      "source": [
        "### Matrix transpose"
      ]
    },
    {
      "cell_type": "code",
      "execution_count": 9,
      "metadata": {
        "colab": {
          "base_uri": "https://localhost:8080/"
        },
        "id": "IumkARr4g3Nv",
        "outputId": "981cb7ac-5a95-4b25-d798-1de3695ea0af"
      },
      "outputs": [
        {
          "output_type": "stream",
          "name": "stdout",
          "text": [
            "tensor([[1, 2],\n",
            "        [3, 4]])\n",
            "tensor([[1, 3],\n",
            "        [2, 4]])\n"
          ]
        }
      ],
      "source": [
        "print(C)\n",
        "print( C.t() )"
      ]
    },
    {
      "cell_type": "code",
      "source": [
        "I = torch.tensor([[[1,2],[3,4]],[[5,6],[7,8]],[[-1,-2],[-3,-4]]])\n",
        "print(I)\n",
        "torch.transpose(I, 1, 2)"
      ],
      "metadata": {
        "colab": {
          "base_uri": "https://localhost:8080/"
        },
        "id": "zeeaBltnPJqp",
        "outputId": "c00788e4-159f-49b8-a8cc-e36fcc8a1eb6"
      },
      "execution_count": 10,
      "outputs": [
        {
          "output_type": "stream",
          "name": "stdout",
          "text": [
            "tensor([[[ 1,  2],\n",
            "         [ 3,  4]],\n",
            "\n",
            "        [[ 5,  6],\n",
            "         [ 7,  8]],\n",
            "\n",
            "        [[-1, -2],\n",
            "         [-3, -4]]])\n"
          ]
        },
        {
          "output_type": "execute_result",
          "data": {
            "text/plain": [
              "tensor([[[ 1,  3],\n",
              "         [ 2,  4]],\n",
              "\n",
              "        [[ 5,  7],\n",
              "         [ 6,  8]],\n",
              "\n",
              "        [[-1, -3],\n",
              "         [-2, -4]]])"
            ]
          },
          "metadata": {},
          "execution_count": 10
        }
      ]
    },
    {
      "cell_type": "markdown",
      "metadata": {
        "id": "AuwWEOBYcbiL"
      },
      "source": [
        "## Creating a specific type of tensor"
      ]
    },
    {
      "cell_type": "code",
      "execution_count": null,
      "metadata": {
        "id": "Vg757DJLaoqh"
      },
      "outputs": [],
      "source": [
        "# print(torch.zeros(2,3))\n",
        "# print(torch.ones(2,3))\n",
        "# print(torch.rand(2,3))\n",
        "# print(torch.randn(2,3))  # sample each number from N(0, 1)\n",
        "# print(torch.arange(9))"
      ]
    },
    {
      "cell_type": "code",
      "source": [
        "torch.zeros(2,3)"
      ],
      "metadata": {
        "colab": {
          "base_uri": "https://localhost:8080/"
        },
        "id": "pVmeDQwzQei1",
        "outputId": "ad0cb955-60c9-48d0-f05a-b88daa2f167c"
      },
      "execution_count": 11,
      "outputs": [
        {
          "output_type": "execute_result",
          "data": {
            "text/plain": [
              "tensor([[0., 0., 0.],\n",
              "        [0., 0., 0.]])"
            ]
          },
          "metadata": {},
          "execution_count": 11
        }
      ]
    },
    {
      "cell_type": "code",
      "source": [
        "torch.ones(2,2,2)"
      ],
      "metadata": {
        "colab": {
          "base_uri": "https://localhost:8080/"
        },
        "id": "niiGK2ToQjRd",
        "outputId": "ce387d94-735c-4426-e61b-90ace32c8c3b"
      },
      "execution_count": 12,
      "outputs": [
        {
          "output_type": "execute_result",
          "data": {
            "text/plain": [
              "tensor([[[1., 1.],\n",
              "         [1., 1.]],\n",
              "\n",
              "        [[1., 1.],\n",
              "         [1., 1.]]])"
            ]
          },
          "metadata": {},
          "execution_count": 12
        }
      ]
    },
    {
      "cell_type": "code",
      "source": [
        "torch.randn()"
      ],
      "metadata": {
        "colab": {
          "base_uri": "https://localhost:8080/",
          "height": 315
        },
        "id": "sFize-8RRF9M",
        "outputId": "32098465-cfbc-4883-9fab-1fd2af0a541f"
      },
      "execution_count": 13,
      "outputs": [
        {
          "output_type": "error",
          "ename": "TypeError",
          "evalue": "randn() received an invalid combination of arguments - got (), but expected one of:\n * (tuple of ints size, *, torch.Generator generator, tuple of names names, torch.dtype dtype = None, torch.layout layout = None, torch.device device = None, bool pin_memory = False, bool requires_grad = False)\n * (tuple of ints size, *, torch.Generator generator, Tensor out = None, torch.dtype dtype = None, torch.layout layout = None, torch.device device = None, bool pin_memory = False, bool requires_grad = False)\n * (tuple of ints size, *, Tensor out = None, torch.dtype dtype = None, torch.layout layout = None, torch.device device = None, bool pin_memory = False, bool requires_grad = False)\n * (tuple of ints size, *, tuple of names names, torch.dtype dtype = None, torch.layout layout = None, torch.device device = None, bool pin_memory = False, bool requires_grad = False)\n",
          "traceback": [
            "\u001b[0;31m---------------------------------------------------------------------------\u001b[0m",
            "\u001b[0;31mTypeError\u001b[0m                                 Traceback (most recent call last)",
            "\u001b[0;32m/tmp/ipython-input-2458571069.py\u001b[0m in \u001b[0;36m<cell line: 0>\u001b[0;34m()\u001b[0m\n\u001b[0;32m----> 1\u001b[0;31m \u001b[0mtorch\u001b[0m\u001b[0;34m.\u001b[0m\u001b[0mrandn\u001b[0m\u001b[0;34m(\u001b[0m\u001b[0;34m)\u001b[0m\u001b[0;34m\u001b[0m\u001b[0;34m\u001b[0m\u001b[0m\n\u001b[0m",
            "\u001b[0;31mTypeError\u001b[0m: randn() received an invalid combination of arguments - got (), but expected one of:\n * (tuple of ints size, *, torch.Generator generator, tuple of names names, torch.dtype dtype = None, torch.layout layout = None, torch.device device = None, bool pin_memory = False, bool requires_grad = False)\n * (tuple of ints size, *, torch.Generator generator, Tensor out = None, torch.dtype dtype = None, torch.layout layout = None, torch.device device = None, bool pin_memory = False, bool requires_grad = False)\n * (tuple of ints size, *, Tensor out = None, torch.dtype dtype = None, torch.layout layout = None, torch.device device = None, bool pin_memory = False, bool requires_grad = False)\n * (tuple of ints size, *, tuple of names names, torch.dtype dtype = None, torch.layout layout = None, torch.device device = None, bool pin_memory = False, bool requires_grad = False)\n"
          ]
        }
      ]
    },
    {
      "cell_type": "markdown",
      "metadata": {
        "id": "aUeodCiLrofw"
      },
      "source": [
        "## Tensor's shape"
      ]
    },
    {
      "cell_type": "markdown",
      "metadata": {
        "id": "qJTX5WOHhVsB"
      },
      "source": [
        "### Checking the shape of a tensor"
      ]
    },
    {
      "cell_type": "code",
      "execution_count": 14,
      "metadata": {
        "colab": {
          "base_uri": "https://localhost:8080/"
        },
        "id": "Nzn5Lyqfhcmf",
        "outputId": "8f637db4-66c2-4a44-9a94-af0b02e5df26"
      },
      "outputs": [
        {
          "output_type": "stream",
          "name": "stdout",
          "text": [
            "torch.Size([2, 4, 5])\n",
            "torch.Size([2, 4, 5])\n"
          ]
        }
      ],
      "source": [
        "F = torch.zeros((2, 4, 5))\n",
        "print(F.shape)\n",
        "print(F.size())"
      ]
    },
    {
      "cell_type": "code",
      "source": [
        "F.shape[1]"
      ],
      "metadata": {
        "colab": {
          "base_uri": "https://localhost:8080/"
        },
        "id": "iN9wwK3wRvXG",
        "outputId": "eb20aeae-c483-4fa7-d0d1-282e35fe51e3"
      },
      "execution_count": 15,
      "outputs": [
        {
          "output_type": "execute_result",
          "data": {
            "text/plain": [
              "4"
            ]
          },
          "metadata": {},
          "execution_count": 15
        }
      ]
    },
    {
      "cell_type": "code",
      "source": [
        "F.size()"
      ],
      "metadata": {
        "colab": {
          "base_uri": "https://localhost:8080/"
        },
        "id": "nS9mtL7-Rxmn",
        "outputId": "b4d18347-5942-4b99-bb93-d9c37c407bb9"
      },
      "execution_count": 16,
      "outputs": [
        {
          "output_type": "execute_result",
          "data": {
            "text/plain": [
              "torch.Size([2, 4, 5])"
            ]
          },
          "metadata": {},
          "execution_count": 16
        }
      ]
    },
    {
      "cell_type": "markdown",
      "metadata": {
        "id": "Vf21H-EvgE87"
      },
      "source": [
        "### Changing the shape of a tensor"
      ]
    },
    {
      "cell_type": "code",
      "execution_count": 17,
      "metadata": {
        "colab": {
          "base_uri": "https://localhost:8080/"
        },
        "id": "o71IJ7_ic1U8",
        "outputId": "54840ab9-64e4-4295-ccfb-023d71293ca1"
      },
      "outputs": [
        {
          "output_type": "stream",
          "name": "stdout",
          "text": [
            "tensor([[0, 1, 2],\n",
            "        [3, 4, 5]])\n",
            "tensor([[0, 1, 2],\n",
            "        [3, 4, 5]])\n"
          ]
        }
      ],
      "source": [
        "G = torch.arange(6)\n",
        "print(G.view(2, 3))\n",
        "print(G.reshape(2, 3))"
      ]
    },
    {
      "cell_type": "code",
      "source": [
        "G1 = G.reshape(2, 3)\n",
        "G1"
      ],
      "metadata": {
        "colab": {
          "base_uri": "https://localhost:8080/"
        },
        "id": "fkdnZUC-SNUF",
        "outputId": "88706019-e3b6-4650-aa7e-2418ddab6381"
      },
      "execution_count": 18,
      "outputs": [
        {
          "output_type": "execute_result",
          "data": {
            "text/plain": [
              "tensor([[0, 1, 2],\n",
              "        [3, 4, 5]])"
            ]
          },
          "metadata": {},
          "execution_count": 18
        }
      ]
    },
    {
      "cell_type": "code",
      "source": [
        "G2 = G.view(2, 3)\n",
        "G2"
      ],
      "metadata": {
        "colab": {
          "base_uri": "https://localhost:8080/"
        },
        "id": "2YWqd1CfSSkF",
        "outputId": "0f07abe4-7adb-46b3-d965-e604c8be0713"
      },
      "execution_count": 19,
      "outputs": [
        {
          "output_type": "execute_result",
          "data": {
            "text/plain": [
              "tensor([[0, 1, 2],\n",
              "        [3, 4, 5]])"
            ]
          },
          "metadata": {},
          "execution_count": 19
        }
      ]
    },
    {
      "cell_type": "markdown",
      "metadata": {
        "id": "7nZgFYT5gd2_"
      },
      "source": [
        "In general, use `reshape`, but if you are worried about the memory usage, use `view`."
      ]
    },
    {
      "cell_type": "markdown",
      "metadata": {
        "id": "uEA3iRzznjNx"
      },
      "source": [
        "### Stacking and concatenating tensors"
      ]
    },
    {
      "cell_type": "code",
      "execution_count": 20,
      "metadata": {
        "colab": {
          "base_uri": "https://localhost:8080/"
        },
        "id": "MQ6JEjsmgbpI",
        "outputId": "b17d3d73-eb9a-4942-e078-b5dad4703cb1"
      },
      "outputs": [
        {
          "output_type": "stream",
          "name": "stdout",
          "text": [
            "tensor([[0, 1, 2, 3, 4, 5],\n",
            "        [0, 1, 2, 3, 4, 5],\n",
            "        [0, 1, 2, 3, 4, 5],\n",
            "        [0, 1, 2, 3, 4, 5]])\n",
            "tensor([[0, 0, 0, 0],\n",
            "        [1, 1, 1, 1],\n",
            "        [2, 2, 2, 2],\n",
            "        [3, 3, 3, 3],\n",
            "        [4, 4, 4, 4],\n",
            "        [5, 5, 5, 5]])\n"
          ]
        }
      ],
      "source": [
        "H = torch.arange(6)\n",
        "I = torch.stack([H, H, H, H], axis=0)\n",
        "J = torch.stack([H, H, H, H], axis=1)\n",
        "print(I)\n",
        "print(J)"
      ]
    },
    {
      "cell_type": "code",
      "execution_count": 21,
      "metadata": {
        "colab": {
          "base_uri": "https://localhost:8080/"
        },
        "id": "Zkz--DJuXyD1",
        "outputId": "697faea1-fddf-435e-e2e6-c9bbbb1de532"
      },
      "outputs": [
        {
          "output_type": "stream",
          "name": "stdout",
          "text": [
            "tensor([0, 1, 2, 3, 4, 5, 0, 1, 2, 3, 4, 5, 0, 1, 2, 3, 4, 5, 0, 1, 2, 3, 4, 5])\n",
            "tensor([[1, 2, 1, 2, 1, 2, 1, 2],\n",
            "        [3, 4, 3, 4, 3, 4, 3, 4]])\n"
          ]
        }
      ],
      "source": [
        "# concatenate\n",
        "\n",
        "I = torch.cat([H, H, H, H], axis=0)\n",
        "print(I)\n",
        "H1 = torch.tensor([[1,2], [3,4]])\n",
        "J = torch.cat([H1, H1, H1, H1], axis=1)\n",
        "print(J)"
      ]
    },
    {
      "cell_type": "markdown",
      "metadata": {
        "id": "eWd_-Ub_pF3b"
      },
      "source": [
        "### Squeezing a tensor (removing an extra dimension)"
      ]
    },
    {
      "cell_type": "code",
      "execution_count": 22,
      "metadata": {
        "colab": {
          "base_uri": "https://localhost:8080/"
        },
        "id": "gf8iDb_PoX_4",
        "outputId": "cfce7a99-49e7-4a59-f77d-0e99e1dc40c2"
      },
      "outputs": [
        {
          "output_type": "stream",
          "name": "stdout",
          "text": [
            "H= tensor([0, 1, 2, 3, 4, 5])\n",
            "K= tensor([[0, 1, 2, 3, 4, 5]])\n",
            "torch.Size([1, 6])\n"
          ]
        }
      ],
      "source": [
        "# [[1,2]] this is (1,2) tensor, want (2,)\n",
        "print(\"H=\", H) # shape = (6,)\n",
        "K = H.reshape(1,6)\n",
        "print(\"K=\", K)\n",
        "print(K.shape)"
      ]
    },
    {
      "cell_type": "code",
      "source": [
        "K1 = K.squeeze()\n",
        "print(K1)\n",
        "print(K1.shape)"
      ],
      "metadata": {
        "colab": {
          "base_uri": "https://localhost:8080/"
        },
        "id": "rjmvup19UI69",
        "outputId": "2e00f258-5409-4615-d32a-7efadb898f6c"
      },
      "execution_count": 23,
      "outputs": [
        {
          "output_type": "stream",
          "name": "stdout",
          "text": [
            "tensor([0, 1, 2, 3, 4, 5])\n",
            "torch.Size([6])\n"
          ]
        }
      ]
    },
    {
      "cell_type": "code",
      "execution_count": 24,
      "metadata": {
        "colab": {
          "base_uri": "https://localhost:8080/"
        },
        "id": "Ke3ro96Cp7rT",
        "outputId": "6d594d27-532a-4049-bc21-e6c28e93ea6f"
      },
      "outputs": [
        {
          "output_type": "stream",
          "name": "stdout",
          "text": [
            "tensor([0, 1, 2, 3, 4, 5])\n"
          ]
        }
      ],
      "source": [
        "print(K.squeeze())"
      ]
    },
    {
      "cell_type": "code",
      "execution_count": 25,
      "metadata": {
        "colab": {
          "base_uri": "https://localhost:8080/"
        },
        "id": "DJxWfoyOqaQs",
        "outputId": "2e313c84-67a8-44dc-dd89-1d649a093494"
      },
      "outputs": [
        {
          "output_type": "stream",
          "name": "stdout",
          "text": [
            "tensor([[0, 1, 2, 3, 4, 5]])\n",
            "tensor([[0],\n",
            "        [1],\n",
            "        [2],\n",
            "        [3],\n",
            "        [4],\n",
            "        [5]])\n"
          ]
        }
      ],
      "source": [
        "# H.shape = (6, )\n",
        "L = H.unsqueeze(axis=0)  # L.shape(1, 6)\n",
        "M = H.unsqueeze(axis=1)  # L.shape(6, 1)\n",
        "print(L)\n",
        "print(M)"
      ]
    },
    {
      "cell_type": "code",
      "source": [
        "H.unsqueeze(axis=1)"
      ],
      "metadata": {
        "colab": {
          "base_uri": "https://localhost:8080/"
        },
        "id": "trm-gveBUvvn",
        "outputId": "1e7ec512-5e41-4a84-ed4f-32a9131afff8"
      },
      "execution_count": 26,
      "outputs": [
        {
          "output_type": "execute_result",
          "data": {
            "text/plain": [
              "tensor([[0],\n",
              "        [1],\n",
              "        [2],\n",
              "        [3],\n",
              "        [4],\n",
              "        [5]])"
            ]
          },
          "metadata": {},
          "execution_count": 26
        }
      ]
    },
    {
      "cell_type": "markdown",
      "metadata": {
        "id": "bfaM--ZlsUsB"
      },
      "source": [
        "## Indexing"
      ]
    },
    {
      "cell_type": "code",
      "execution_count": 27,
      "metadata": {
        "colab": {
          "base_uri": "https://localhost:8080/"
        },
        "id": "fPqsnD8qsWsH",
        "outputId": "96d6a958-0d34-4f44-8183-d656cf1d7716"
      },
      "outputs": [
        {
          "output_type": "stream",
          "name": "stdout",
          "text": [
            "tensor([[ 0,  1,  2,  3],\n",
            "        [ 4,  5,  6,  7],\n",
            "        [ 8,  9, 10, 11]])\n",
            "tensor([0, 1, 2, 3])\n",
            "tensor([0, 4, 8])\n",
            "tensor([ 8,  9, 10, 11])\n",
            "tensor([ 3,  7, 11])\n",
            "tensor([[ 4,  5,  6,  7],\n",
            "        [ 8,  9, 10, 11]])\n",
            "tensor([[ 2,  3],\n",
            "        [ 6,  7],\n",
            "        [10, 11]])\n"
          ]
        }
      ],
      "source": [
        "P = torch.arange(12).reshape(3,4)\n",
        "print(P)\n",
        "print(P[0])\n",
        "print(P[:, 0])\n",
        "print(P[-1])\n",
        "print(P[:, -1])\n",
        "print(P[-2:])\n",
        "print(P[:, -2:])"
      ]
    },
    {
      "cell_type": "markdown",
      "metadata": {
        "id": "ftVXJ-3ur9yk"
      },
      "source": [
        "## PyTorch and GPU"
      ]
    },
    {
      "cell_type": "markdown",
      "metadata": {
        "id": "2TmzZR23sKOW"
      },
      "source": [
        "check if GPU is available"
      ]
    },
    {
      "cell_type": "code",
      "execution_count": 28,
      "metadata": {
        "colab": {
          "base_uri": "https://localhost:8080/"
        },
        "id": "TSiXGmqrqyzw",
        "outputId": "55f1ec84-1e70-4a7d-85fe-cb615f94e2d7"
      },
      "outputs": [
        {
          "output_type": "execute_result",
          "data": {
            "text/plain": [
              "True"
            ]
          },
          "metadata": {},
          "execution_count": 28
        }
      ],
      "source": [
        "torch.cuda.is_available()"
      ]
    },
    {
      "cell_type": "code",
      "execution_count": 29,
      "metadata": {
        "colab": {
          "base_uri": "https://localhost:8080/"
        },
        "id": "wjDt08_7sMxz",
        "outputId": "9223f8ee-bc3c-4541-be23-729440424ffd"
      },
      "outputs": [
        {
          "output_type": "stream",
          "name": "stdout",
          "text": [
            "cpu\n"
          ]
        }
      ],
      "source": [
        "Q = torch.tensor([1, 2, 3])\n",
        "print(Q.device)"
      ]
    },
    {
      "cell_type": "code",
      "execution_count": 30,
      "metadata": {
        "colab": {
          "base_uri": "https://localhost:8080/"
        },
        "id": "7BitUf-RtdG3",
        "outputId": "82992ec9-8a9d-4085-b678-e0bc8bc69e56"
      },
      "outputs": [
        {
          "output_type": "stream",
          "name": "stdout",
          "text": [
            "cpu\n",
            "cuda:0\n"
          ]
        }
      ],
      "source": [
        "R = Q.to('cuda')\n",
        "print(Q.device)\n",
        "print(R.device)"
      ]
    },
    {
      "cell_type": "code",
      "execution_count": 31,
      "metadata": {
        "colab": {
          "base_uri": "https://localhost:8080/"
        },
        "id": "PbsTOQ-Itiax",
        "outputId": "ac66734e-0722-4836-be7f-6cd38e0a9f49"
      },
      "outputs": [
        {
          "output_type": "execute_result",
          "data": {
            "text/plain": [
              "array([1, 2, 3])"
            ]
          },
          "metadata": {},
          "execution_count": 31
        }
      ],
      "source": [
        "R.cpu().numpy()"
      ]
    },
    {
      "cell_type": "code",
      "execution_count": null,
      "metadata": {
        "id": "RkI3ITOLt2S6"
      },
      "outputs": [],
      "source": [
        "#ใช้โค้ดนี้ torch.randn(2,3)"
      ]
    },
    {
      "cell_type": "markdown",
      "metadata": {
        "id": "aZBZ3f66AFye"
      },
      "source": [
        "# Exercise\n",
        "\n",
        "In this exercise, we will simulate data to perform linear regression with 200 rows and 7 variables.\n",
        "\n",
        "1. Create three random $N(0,1)$ tensors: `X`, `b` and `e` with `X.shape = (200, 7)`, `b.shape = (8, 1)` and `e.shape = (200, 1)` respectively.\n",
        "2. Create a tensor that contains only 1's with shape `(200, 1)`.\n",
        "3. Modify tensor `X` by adding the tensor in 2. as the first column.\n",
        "4. Compute `y` using the following formula:\n",
        "$$ y = Xb + e $$.\n",
        "5. Fit a linear regression to the data `X` and `y` and obtain a tensor of estimated coefficient `b_hat`. The formula for `b_hat` is given by:\n",
        "$$ \\hat{b} = (X^TX)^{-1}X^Ty $$\n",
        "Note: use `torch.inverse(...)` to calculate the inverse\n",
        "6. Compute the predictions `y_hat`, given by:\n",
        "$$ \\hat{y} = X\\hat{b} $$\n",
        "7. Convert both `y` and `y_hat` from tensor to Numpy array and calculate MSE:\n",
        "$$ MSE = \\frac{1}{200}\\sum_{i=1}^{200} (y_i - \\hat{y}_i)^2 $$"
      ]
    },
    {
      "cell_type": "code",
      "execution_count": 32,
      "metadata": {
        "colab": {
          "base_uri": "https://localhost:8080/"
        },
        "id": "eQOsf3B_QnvN",
        "outputId": "8fd1e3ef-fb20-4602-fd1e-56b98f95fe0e"
      },
      "outputs": [
        {
          "output_type": "stream",
          "name": "stdout",
          "text": [
            "tensor([[2, 3, 2],\n",
            "        [4, 6, 7],\n",
            "        [7, 2, 4]])\n",
            "tensor([[1, 2, 3, 2],\n",
            "        [1, 4, 6, 7],\n",
            "        [1, 7, 2, 4]])\n"
          ]
        }
      ],
      "source": [
        "X = torch.tensor([[2, 3, 2], [4, 6, 7], [7, 2, 4]])\n",
        "print(X)\n",
        "\n",
        "X = torch.tensor([[1, 2, 3, 2], [1, 4, 6, 7], [1, 7, 2, 4]])\n",
        "print(X)"
      ]
    },
    {
      "cell_type": "code",
      "execution_count": 33,
      "metadata": {
        "id": "Qm_SlwkZQ_i1",
        "colab": {
          "base_uri": "https://localhost:8080/"
        },
        "outputId": "9fd19378-9bca-4218-d87b-fdddf56ad4d7"
      },
      "outputs": [
        {
          "output_type": "execute_result",
          "data": {
            "text/plain": [
              "tensor([[-0.8687,  1.2547,  0.1918],\n",
              "        [-0.3132, -0.2188, -1.0585]])"
            ]
          },
          "metadata": {},
          "execution_count": 33
        }
      ],
      "source": [
        "torch.randn(2,3)"
      ]
    },
    {
      "cell_type": "code",
      "source": [
        "# 1.Create three random N(0,1) tensors\n",
        "X = torch.randn(200, 7)\n",
        "b = torch.randn(8, 1)\n",
        "e = torch.randn(200, 1)\n",
        "\n",
        "# 2.Create a tensor of ones\n",
        "ones = torch.ones(200, 1)\n",
        "\n",
        "# 3.Modify tensor X by adding the tensor in 2. as the first column\n",
        "X = torch.cat([ones, X], axis=1)\n",
        "\n",
        "# 4.Compute y\n",
        "y = torch.matmul(X, b) + e\n",
        "\n",
        "# 5.Fit a linear regression and obtain b_hat\n",
        "XTX = torch.matmul(X.t(), X)\n",
        "XTX_inv = torch.inverse(XTX)\n",
        "XTy = torch.matmul(X.t(), y)\n",
        "b_hat = torch.matmul(XTX_inv, XTy)\n",
        "\n",
        "# 6.Compute the predictions y_hat\n",
        "y_hat = torch.matmul(X, b_hat)\n",
        "\n",
        "# 7.Convert to Numpy and calculate MSE\n",
        "y_np = y.numpy()\n",
        "y_hat_np = y_hat.numpy()\n",
        "\n",
        "mse = np.mean((y_np - y_hat_np)**2)\n",
        "\n",
        "print(\"Estimated coefficients (b_hat):\")\n",
        "print(b_hat)\n",
        "print(\"\\nMean Squared Error (MSE):\")\n",
        "print(mse)"
      ],
      "metadata": {
        "id": "MoHiRrbtYmzG",
        "colab": {
          "base_uri": "https://localhost:8080/"
        },
        "outputId": "ac868789-d210-47a8-9312-7746178edaa3"
      },
      "execution_count": 38,
      "outputs": [
        {
          "output_type": "stream",
          "name": "stdout",
          "text": [
            "Estimated coefficients (b_hat):\n",
            "tensor([[ 0.3241],\n",
            "        [ 0.7279],\n",
            "        [-2.1633],\n",
            "        [ 0.2664],\n",
            "        [-0.2303],\n",
            "        [-1.7815],\n",
            "        [ 0.9625],\n",
            "        [-0.8629]])\n",
            "\n",
            "Mean Squared Error (MSE):\n",
            "1.211716\n"
          ]
        }
      ]
    }
  ],
  "metadata": {
    "accelerator": "GPU",
    "colab": {
      "provenance": [],
      "gpuType": "T4",
      "include_colab_link": true
    },
    "kernelspec": {
      "display_name": "Python 3",
      "name": "python3"
    },
    "language_info": {
      "codemirror_mode": {
        "name": "ipython",
        "version": 3
      },
      "file_extension": ".py",
      "mimetype": "text/x-python",
      "name": "python",
      "nbconvert_exporter": "python",
      "pygments_lexer": "ipython3",
      "version": "3.10.12"
    }
  },
  "nbformat": 4,
  "nbformat_minor": 0
}